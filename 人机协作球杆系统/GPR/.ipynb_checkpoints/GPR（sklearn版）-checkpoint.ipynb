{
 "cells": [
  {
   "cell_type": "code",
   "execution_count": null,
   "metadata": {
    "pycharm": {
     "is_executing": false
    }
   },
   "outputs": [],
   "source": [
    "\"\"\" 导入numpy和matplotlib \"\"\"\n",
    "import numpy as np\n",
    "import matplotlib.pyplot as plt\n",
    "\"\"\" 导入sciki-learn \"\"\"\n",
    "from sklearn.gaussian_process import GaussianProcessRegressor\n",
    "from sklearn.gaussian_process.kernels import ConstantKernel, RBF"
   ]
  },
  {
   "cell_type": "code",
   "execution_count": null,
   "metadata": {
    "pycharm": {
     "is_executing": false,
     "name": "#%%\n"
    }
   },
   "outputs": [],
   "source": [
    "\"\"\" 创建训练集 \"\"\"\n",
    "data_train = np.loadtxt('D:/Program Files/Pycharm/Projects/基于强化学习的球杆系统人机协作控制/GPR/改进版training_data.txt')\n",
    "feature_train = data_train[:, :6]  # 数据集前6列作为特征（误差，距离，速度，角度）\n",
    "feature_train = feature_train[0:2000]\n",
    "label_x = data_train[:, -2]  # 数据集第7列作为x轴速度的标签\n",
    "label_x = label_x[0:2000]\n",
    "label_z = data_train[:, -1]  # 数据集第8列作为z轴速度的标签\n",
    "label_z = label_z[0:2000]\n",
    "print(feature_train)\n",
    "print(label_x)\n",
    "print(label_z)"
   ]
  },
  {
   "cell_type": "code",
   "execution_count": null,
   "metadata": {
    "pycharm": {
     "is_executing": false,
     "name": "#%%\n"
    }
   },
   "outputs": [],
   "source": [
    "\"\"\" 创建测试集 \"\"\"\n",
    "data_test = np.loadtxt('D:/Program Files/Pycharm/Projects/基于强化学习的球杆系统人机协作控制/改进版training_data.txt')\n",
    "feature_test = data_test[:, :6]\n",
    "feature_test = feature_test[2000:2100]  # 取数据作为测试集\n",
    "# print(feature_test)"
   ]
  },
  {
   "cell_type": "code",
   "execution_count": null,
   "metadata": {
    "pycharm": {
     "is_executing": false
    }
   },
   "outputs": [],
   "source": [
    "\"\"\"实际速度 \"\"\"\n",
    "actual_x = data_train[:, -2]\n",
    "actual_x = actual_x[2000:2100]\n",
    "actual_z = data_train[:, -1]\n",
    "actual_z = actual_z[2000:2100]"
   ]
  },
  {
   "cell_type": "code",
   "execution_count": null,
   "metadata": {
    "pycharm": {
     "is_executing": false,
     "name": "#%%\n"
    }
   },
   "outputs": [],
   "source": [
    "\"\"\" 创建核函数 \"\"\"\n",
    "kernel = ConstantKernel(constant_value=0.2, constant_value_bounds=(1e-4, 1e4)) * RBF(length_scale=0.5, length_scale_bounds=(1e-4, 1e4))"
   ]
  },
  {
   "cell_type": "code",
   "execution_count": null,
   "metadata": {
    "pycharm": {
     "is_executing": false,
     "name": "#%%\n"
    }
   },
   "outputs": [],
   "source": [
    "\"\"\" 创建高斯过程回归模型 \"\"\"\n",
    "reg_x = GaussianProcessRegressor(kernel=kernel, n_restarts_optimizer=10, alpha=0.01)\n",
    "reg_z = GaussianProcessRegressor(kernel=kernel, n_restarts_optimizer=10, alpha=0.1)"
   ]
  },
  {
   "cell_type": "code",
   "execution_count": null,
   "metadata": {
    "pycharm": {
     "is_executing": true,
     "name": "#%%\n"
    }
   },
   "outputs": [],
   "source": [
    "\"\"\" 训练x轴超参数 \"\"\"\n",
    "reg_x.fit(feature_train, label_x)"
   ]
  },
  {
   "cell_type": "code",
   "execution_count": null,
   "metadata": {
    "pycharm": {
     "is_executing": true
    }
   },
   "outputs": [],
   "source": [
    "\"\"\" 训练z轴超参数 \"\"\"\n",
    "reg_z.fit(feature_train, label_z)"
   ]
  },
  {
   "cell_type": "code",
   "execution_count": null,
   "metadata": {
    "pycharm": {
     "is_executing": true,
     "name": "#%%\n"
    }
   },
   "outputs": [],
   "source": [
    "output_x, err_x  = reg_x.predict(feature_test, return_std=True)\n",
    "output_z, err_z  = reg_z.predict(feature_test, return_std=True)\n",
    "result_x = output_x.ravel()\n",
    "result_z = output_z.ravel()\n",
    "# print(result_x)\n",
    "# print(result_z)"
   ]
  },
  {
   "cell_type": "code",
   "execution_count": null,
   "metadata": {
    "pycharm": {
     "is_executing": true
    }
   },
   "outputs": [],
   "source": [
    "uncertainty_x = 1.96 * err_x\n",
    "uncertainty_z = 1.96 * err_z\n",
    "# print(uncertainty_x)\n",
    "# print(uncertainty_z)"
   ]
  },
  {
   "cell_type": "code",
   "execution_count": null,
   "metadata": {
    "pycharm": {
     "is_executing": true,
     "name": "#%%\n"
    },
    "scrolled": false
   },
   "outputs": [],
   "source": [
    "plt_x = np.arange(0, 100, 1).reshape(-1, 1)\n",
    "plt_z = np.arange(0, 100, 1).reshape(-1, 1)\n",
    "\n",
    "plt.figure(figsize=(10, 5))\n",
    "plt.plot(plt_x, result_x)\n",
    "plt.plot(plt_x, actual_x)\n",
    "plt.fill_between(plt_x.flatten(), result_x + uncertainty_x, result_x - uncertainty_x, alpha=0.2)\n",
    "plt.show()\n",
    "\n",
    "plt.figure(figsize=(10, 5))\n",
    "plt.plot(plt_z, result_z)\n",
    "plt.plot(plt_z, actual_z)\n",
    "plt.fill_between(plt_z.flatten(), result_z + uncertainty_z, result_z - uncertainty_z, alpha=0.2)\n",
    "plt.show()\n"
   ]
  },
  {
   "cell_type": "code",
   "execution_count": null,
   "metadata": {},
   "outputs": [],
   "source": []
  }
 ],
 "metadata": {
  "kernelspec": {
   "display_name": "Python 3",
   "language": "python",
   "name": "python3"
  },
  "language_info": {
   "codemirror_mode": {
    "name": "ipython",
    "version": 3
   },
   "file_extension": ".py",
   "mimetype": "text/x-python",
   "name": "python",
   "nbconvert_exporter": "python",
   "pygments_lexer": "ipython3",
   "version": "3.7.7"
  },
  "pycharm": {
   "stem_cell": {
    "cell_type": "raw",
    "metadata": {
     "collapsed": false
    },
    "source": []
   }
  }
 },
 "nbformat": 4,
 "nbformat_minor": 1
}
